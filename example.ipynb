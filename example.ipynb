{
 "cells": [
  {
   "cell_type": "code",
   "execution_count": 1,
   "metadata": {},
   "outputs": [],
   "source": [
    "from selenium import webdriver\n",
    "from selenium.webdriver.common.by import By\n",
    "from selenium.webdriver.common.by import By\n",
    "from selenium.webdriver.support.ui import WebDriverWait\n",
    "from selenium.webdriver.support import expected_conditions as EC\n",
    "import time\n",
    "import re\n",
    "from ortools.linear_solver import pywraplp\n",
    "import numpy as np\n",
    "\n",
    "from nyt_sudoku import NYTSudoku\n",
    "from sudoku_solver import SudokuSolver"
   ]
  },
  {
   "cell_type": "code",
   "execution_count": 4,
   "metadata": {},
   "outputs": [
    {
     "name": "stdout",
     "output_type": "stream",
     "text": [
      "Today's clues:\n",
      "[9, 0, 7, 0, 0, 0, 4, 3, 0]\n",
      "[1, 0, 0, 0, 2, 8, 0, 0, 0]\n",
      "[0, 5, 0, 3, 4, 0, 9, 1, 2]\n",
      "[0, 0, 4, 0, 0, 0, 1, 6, 5]\n",
      "[2, 0, 5, 7, 8, 6, 0, 0, 0]\n",
      "[0, 6, 9, 5, 0, 0, 2, 0, 0]\n",
      "[0, 0, 0, 8, 5, 0, 0, 2, 3]\n",
      "[5, 9, 6, 0, 0, 2, 0, 0, 0]\n",
      "[0, 3, 0, 0, 0, 1, 5, 4, 0]\n",
      "[Info] driver closed :)\n"
     ]
    },
    {
     "data": {
      "text/plain": [
       "array([[9, 2, 7, 1, 6, 5, 4, 3, 8],\n",
       "       [1, 4, 3, 9, 2, 8, 7, 5, 6],\n",
       "       [6, 5, 8, 3, 4, 7, 9, 1, 2],\n",
       "       [7, 8, 4, 2, 9, 3, 1, 6, 5],\n",
       "       [2, 1, 5, 7, 8, 6, 3, 9, 4],\n",
       "       [3, 6, 9, 5, 1, 4, 2, 8, 7],\n",
       "       [4, 7, 1, 8, 5, 9, 6, 2, 3],\n",
       "       [5, 9, 6, 4, 3, 2, 8, 7, 1],\n",
       "       [8, 3, 2, 6, 7, 1, 5, 4, 9]])"
      ]
     },
     "execution_count": 4,
     "metadata": {},
     "output_type": "execute_result"
    }
   ],
   "source": [
    "# run scraper\n",
    "sudoku_scraper = NYTSudoku()\n",
    "sudoku_scraper.difficulty = 'easy'\n",
    "sudoku_scraper.open_webdriver()\n",
    "retreived = sudoku_scraper.retrieve()\n",
    "sudoku_scraper.close_webdriver()\n",
    "\n",
    "retreived = np.array(retreived)\n",
    "\n",
    "# run optimization\n",
    "sudoku_optimizer = SudokuSolver()\n",
    "sudoku_optimizer.integer_solve(sudoku=retreived)"
   ]
  }
 ],
 "metadata": {
  "kernelspec": {
   "display_name": "base",
   "language": "python",
   "name": "python3"
  },
  "language_info": {
   "codemirror_mode": {
    "name": "ipython",
    "version": 3
   },
   "file_extension": ".py",
   "mimetype": "text/x-python",
   "name": "python",
   "nbconvert_exporter": "python",
   "pygments_lexer": "ipython3",
   "version": "3.9.12"
  }
 },
 "nbformat": 4,
 "nbformat_minor": 2
}
