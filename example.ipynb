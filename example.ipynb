{
 "cells": [
  {
   "cell_type": "code",
   "execution_count": 1,
   "metadata": {},
   "outputs": [],
   "source": [
    "from selenium import webdriver\n",
    "from selenium.webdriver.common.by import By\n",
    "from selenium.webdriver.common.by import By\n",
    "from selenium.webdriver.support.ui import WebDriverWait\n",
    "from selenium.webdriver.support import expected_conditions as EC\n",
    "import time\n",
    "import re\n",
    "from ortools.linear_solver import pywraplp\n",
    "import numpy as np\n",
    "\n",
    "from scraper.nyt_sudoku import NYTSudoku\n",
    "from solver.sudoku_solver import SudokuSolver"
   ]
  },
  {
   "cell_type": "code",
   "execution_count": 2,
   "metadata": {},
   "outputs": [
    {
     "name": "stdout",
     "output_type": "stream",
     "text": [
      "Today's clues:\n",
      "[2, 0, 0, 7, 0, 3, 4, 0, 0]\n",
      "[1, 0, 0, 0, 6, 0, 9, 8, 0]\n",
      "[0, 4, 0, 0, 0, 0, 0, 0, 7]\n",
      "[8, 0, 1, 0, 0, 0, 0, 0, 0]\n",
      "[0, 0, 6, 8, 0, 4, 0, 0, 5]\n",
      "[0, 9, 0, 0, 0, 0, 0, 0, 6]\n",
      "[5, 7, 0, 0, 8, 2, 0, 0, 0]\n",
      "[0, 0, 2, 0, 0, 0, 0, 0, 0]\n",
      "[0, 6, 0, 0, 3, 0, 0, 0, 0]\n"
     ]
    },
    {
     "data": {
      "text/plain": [
       "array([[2, 8, 5, 7, 9, 3, 4, 6, 1],\n",
       "       [1, 3, 7, 4, 6, 5, 9, 8, 2],\n",
       "       [6, 4, 9, 2, 1, 8, 5, 3, 7],\n",
       "       [8, 5, 1, 6, 2, 9, 7, 4, 3],\n",
       "       [3, 2, 6, 8, 7, 4, 1, 9, 5],\n",
       "       [7, 9, 4, 3, 5, 1, 8, 2, 6],\n",
       "       [5, 7, 3, 9, 8, 2, 6, 1, 4],\n",
       "       [9, 1, 2, 5, 4, 6, 3, 7, 8],\n",
       "       [4, 6, 8, 1, 3, 7, 2, 5, 9]])"
      ]
     },
     "execution_count": 2,
     "metadata": {},
     "output_type": "execute_result"
    }
   ],
   "source": [
    "# run scraper\n",
    "sudoku_scraper = NYTSudoku()\n",
    "sudoku_scraper.difficulty = 'medium'\n",
    "sudoku_scraper.path = 'scraper/selenium webdriver/chromedriver.exe'\n",
    "retreived = sudoku_scraper.nyt_pipeline()\n",
    "\n",
    "\n",
    "# run optimization\n",
    "sudoku_optimizer = SudokuSolver()\n",
    "sudoku_optimizer.integer_solve(sudoku=retreived)"
   ]
  }
 ],
 "metadata": {
  "kernelspec": {
   "display_name": "base",
   "language": "python",
   "name": "python3"
  },
  "language_info": {
   "codemirror_mode": {
    "name": "ipython",
    "version": 3
   },
   "file_extension": ".py",
   "mimetype": "text/x-python",
   "name": "python",
   "nbconvert_exporter": "python",
   "pygments_lexer": "ipython3",
   "version": "3.9.12"
  }
 },
 "nbformat": 4,
 "nbformat_minor": 2
}
