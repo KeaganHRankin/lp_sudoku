{
 "cells": [
  {
   "cell_type": "code",
   "execution_count": 1,
   "metadata": {},
   "outputs": [],
   "source": [
    "from selenium import webdriver\n",
    "from selenium.webdriver.common.by import By\n",
    "from selenium.webdriver.common.by import By\n",
    "from selenium.webdriver.support.ui import WebDriverWait\n",
    "from selenium.webdriver.support import expected_conditions as EC\n",
    "import time\n",
    "import re\n",
    "from ortools.linear_solver import pywraplp\n",
    "import numpy as np\n",
    "\n",
    "from scraper.nyt_sudoku import NYTSudoku\n",
    "from solver.sudoku_solver import SudokuSolver"
   ]
  },
  {
   "cell_type": "code",
   "execution_count": 3,
   "metadata": {},
   "outputs": [
    {
     "name": "stdout",
     "output_type": "stream",
     "text": [
      "Today's clues:\n",
      "[8, 9, 0, 0, 0, 0, 0, 6, 0]\n",
      "[0, 0, 0, 0, 0, 4, 2, 0, 1]\n",
      "[0, 0, 4, 0, 0, 0, 0, 0, 3]\n",
      "[9, 7, 0, 0, 8, 0, 0, 0, 0]\n",
      "[0, 0, 0, 5, 0, 0, 0, 0, 0]\n",
      "[0, 5, 0, 0, 6, 0, 0, 1, 0]\n",
      "[7, 3, 0, 0, 0, 9, 6, 0, 0]\n",
      "[0, 0, 0, 0, 0, 0, 0, 5, 0]\n",
      "[1, 0, 0, 0, 0, 2, 0, 0, 0]\n"
     ]
    },
    {
     "data": {
      "text/plain": [
       "array([[8, 9, 3, 2, 1, 5, 7, 6, 4],\n",
       "       [5, 6, 7, 8, 3, 4, 2, 9, 1],\n",
       "       [2, 1, 4, 7, 9, 6, 5, 8, 3],\n",
       "       [9, 7, 6, 4, 8, 1, 3, 2, 5],\n",
       "       [4, 8, 1, 5, 2, 3, 9, 7, 6],\n",
       "       [3, 5, 2, 9, 6, 7, 4, 1, 8],\n",
       "       [7, 3, 8, 1, 5, 9, 6, 4, 2],\n",
       "       [6, 2, 9, 3, 4, 8, 1, 5, 7],\n",
       "       [1, 4, 5, 6, 7, 2, 8, 3, 9]])"
      ]
     },
     "execution_count": 3,
     "metadata": {},
     "output_type": "execute_result"
    }
   ],
   "source": [
    "# run scraper\n",
    "sudoku_scraper = NYTSudoku()\n",
    "sudoku_scraper.difficulty = 'hard'\n",
    "sudoku_scraper.path = 'scraper/selenium webdriver/chromedriver.exe'\n",
    "retreived = sudoku_scraper.nyt_pipeline()\n",
    "\n",
    "\n",
    "# run optimization\n",
    "sudoku_optimizer = SudokuSolver()\n",
    "sudoku_optimizer.integer_solve(sudoku=retreived)"
   ]
  }
 ],
 "metadata": {
  "kernelspec": {
   "display_name": "base",
   "language": "python",
   "name": "python3"
  },
  "language_info": {
   "codemirror_mode": {
    "name": "ipython",
    "version": 3
   },
   "file_extension": ".py",
   "mimetype": "text/x-python",
   "name": "python",
   "nbconvert_exporter": "python",
   "pygments_lexer": "ipython3",
   "version": "3.9.12"
  }
 },
 "nbformat": 4,
 "nbformat_minor": 2
}
