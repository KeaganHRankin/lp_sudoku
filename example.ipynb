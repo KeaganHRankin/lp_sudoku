{
 "cells": [
  {
   "cell_type": "code",
   "execution_count": 1,
   "metadata": {},
   "outputs": [],
   "source": [
    "from selenium import webdriver\n",
    "from selenium.webdriver.common.by import By\n",
    "from selenium.webdriver.common.by import By\n",
    "from selenium.webdriver.support.ui import WebDriverWait\n",
    "from selenium.webdriver.support import expected_conditions as EC\n",
    "import time\n",
    "import re\n",
    "from ortools.linear_solver import pywraplp\n",
    "import numpy as np\n",
    "\n",
    "from scraper.nyt_sudoku import NYTSudoku\n",
    "from solver.sudoku_solver import SudokuSolver"
   ]
  },
  {
   "cell_type": "code",
   "execution_count": 4,
   "metadata": {},
   "outputs": [
    {
     "name": "stdout",
     "output_type": "stream",
     "text": [
      "Today's clues:\n",
      "[0, 4, 0, 0, 7, 0, 0, 0, 0]\n",
      "[0, 0, 0, 0, 0, 1, 0, 2, 4]\n",
      "[0, 6, 0, 0, 3, 0, 5, 0, 0]\n",
      "[7, 1, 0, 0, 0, 0, 0, 0, 9]\n",
      "[0, 0, 0, 0, 4, 7, 0, 0, 0]\n",
      "[0, 5, 2, 6, 0, 0, 0, 0, 0]\n",
      "[0, 0, 7, 1, 2, 0, 0, 0, 0]\n",
      "[0, 0, 8, 0, 0, 0, 0, 0, 0]\n",
      "[0, 2, 0, 0, 5, 4, 0, 3, 0]\n"
     ]
    },
    {
     "data": {
      "text/plain": [
       "array([[1, 4, 3, 5, 7, 2, 8, 9, 6],\n",
       "       [8, 7, 5, 9, 6, 1, 3, 2, 4],\n",
       "       [2, 6, 9, 4, 3, 8, 5, 7, 1],\n",
       "       [7, 1, 4, 3, 8, 5, 2, 6, 9],\n",
       "       [9, 8, 6, 2, 4, 7, 1, 5, 3],\n",
       "       [3, 5, 2, 6, 1, 9, 7, 4, 8],\n",
       "       [4, 9, 7, 1, 2, 3, 6, 8, 5],\n",
       "       [5, 3, 8, 7, 9, 6, 4, 1, 2],\n",
       "       [6, 2, 1, 8, 5, 4, 9, 3, 7]])"
      ]
     },
     "execution_count": 4,
     "metadata": {},
     "output_type": "execute_result"
    }
   ],
   "source": [
    "# run scraper\n",
    "sudoku_scraper = NYTSudoku()\n",
    "sudoku_scraper.difficulty = 'hard'\n",
    "sudoku_scraper.path = 'scraper/selenium webdriver/chromedriver.exe'\n",
    "retreived = sudoku_scraper.nyt_pipeline()\n",
    "\n",
    "\n",
    "# run optimization\n",
    "sudoku_optimizer = SudokuSolver()\n",
    "sudoku_optimizer.integer_solve(sudoku=retreived)"
   ]
  }
 ],
 "metadata": {
  "kernelspec": {
   "display_name": "base",
   "language": "python",
   "name": "python3"
  },
  "language_info": {
   "codemirror_mode": {
    "name": "ipython",
    "version": 3
   },
   "file_extension": ".py",
   "mimetype": "text/x-python",
   "name": "python",
   "nbconvert_exporter": "python",
   "pygments_lexer": "ipython3",
   "version": "3.9.12"
  }
 },
 "nbformat": 4,
 "nbformat_minor": 2
}
